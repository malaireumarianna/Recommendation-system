{
 "cells": [
  {
   "cell_type": "code",
   "execution_count": null,
   "id": "a96819ce-b06e-4565-a6c6-94f0faf02767",
   "metadata": {},
   "outputs": [],
   "source": [
    "import os\n",
    "os.kill(os.getpid(), 9)  # This will force a Colab restart\n"
   ]
  },
  {
   "cell_type": "markdown",
   "id": "4a7fe985-16c9-4662-8f4e-e02851b9c9d6",
   "metadata": {},
   "source": [
    "Download and read dataset.\n",
    "   \n",
    "It contains 3 tables - 'Users.csv', 'Ratings.csv', 'Books.csv'."
   ]
  },
  {
   "cell_type": "code",
   "execution_count": null,
   "id": "25e04cc3-8700-4209-b3aa-63ea0e6854ff",
   "metadata": {},
   "outputs": [],
   "source": []
  },
  {
   "cell_type": "code",
   "execution_count": 3,
   "id": "c9a6bb26-9409-48b4-a382-7ff2359e8a67",
   "metadata": {},
   "outputs": [
    {
     "name": "stdout",
     "output_type": "stream",
     "text": [
      "Path to dataset files: /home/jovyan/.cache/kagglehub/datasets/arashnic/book-recommendation-dataset/versions/3\n"
     ]
    }
   ],
   "source": [
    "import kagglehub\n",
    "\n",
    "# Download latest version\n",
    "path = kagglehub.dataset_download(\"arashnic/book-recommendation-dataset\")\n",
    "\n",
    "print(\"Path to dataset files:\", path)"
   ]
  },
  {
   "cell_type": "code",
   "execution_count": 4,
   "id": "08719d17-8323-45a7-ae78-3ceff6aa07f5",
   "metadata": {},
   "outputs": [],
   "source": [
    " path = '/home/jovyan/.cache/kagglehub/datasets/arashnic/book-recommendation-dataset/versions/3'"
   ]
  },
  {
   "cell_type": "code",
   "execution_count": 5,
   "id": "4e9d38c3-2c8d-40a9-a9f9-2c123f957f6d",
   "metadata": {},
   "outputs": [
    {
     "name": "stdout",
     "output_type": "stream",
     "text": [
      "['DeepRec.png', 'Users.csv', 'Ratings.csv', 'Books.csv', 'classicRec.png', 'recsys_taxonomy2.png']\n"
     ]
    }
   ],
   "source": [
    "import os\n",
    "\n",
    "files = os.listdir(path)\n",
    "print(files)"
   ]
  },
  {
   "cell_type": "code",
   "execution_count": 6,
   "id": "651eb964-ad03-4f3a-b1be-c6272570e3e2",
   "metadata": {},
   "outputs": [
    {
     "name": "stderr",
     "output_type": "stream",
     "text": [
      "/tmp/ipykernel_85/66192168.py:3: DtypeWarning: Columns (3) have mixed types. Specify dtype option on import or set low_memory=False.\n",
      "  books = pd.read_csv(os.path.join(path, 'Books.csv'))\n"
     ]
    },
    {
     "data": {
      "text/html": [
       "<div>\n",
       "<style scoped>\n",
       "    .dataframe tbody tr th:only-of-type {\n",
       "        vertical-align: middle;\n",
       "    }\n",
       "\n",
       "    .dataframe tbody tr th {\n",
       "        vertical-align: top;\n",
       "    }\n",
       "\n",
       "    .dataframe thead th {\n",
       "        text-align: right;\n",
       "    }\n",
       "</style>\n",
       "<table border=\"1\" class=\"dataframe\">\n",
       "  <thead>\n",
       "    <tr style=\"text-align: right;\">\n",
       "      <th></th>\n",
       "      <th>ISBN</th>\n",
       "      <th>Book-Title</th>\n",
       "      <th>Book-Author</th>\n",
       "      <th>Year-Of-Publication</th>\n",
       "      <th>Publisher</th>\n",
       "      <th>Image-URL-S</th>\n",
       "      <th>Image-URL-M</th>\n",
       "      <th>Image-URL-L</th>\n",
       "    </tr>\n",
       "  </thead>\n",
       "  <tbody>\n",
       "    <tr>\n",
       "      <th>0</th>\n",
       "      <td>0195153448</td>\n",
       "      <td>Classical Mythology</td>\n",
       "      <td>Mark P. O. Morford</td>\n",
       "      <td>2002</td>\n",
       "      <td>Oxford University Press</td>\n",
       "      <td>http://images.amazon.com/images/P/0195153448.0...</td>\n",
       "      <td>http://images.amazon.com/images/P/0195153448.0...</td>\n",
       "      <td>http://images.amazon.com/images/P/0195153448.0...</td>\n",
       "    </tr>\n",
       "    <tr>\n",
       "      <th>1</th>\n",
       "      <td>0002005018</td>\n",
       "      <td>Clara Callan</td>\n",
       "      <td>Richard Bruce Wright</td>\n",
       "      <td>2001</td>\n",
       "      <td>HarperFlamingo Canada</td>\n",
       "      <td>http://images.amazon.com/images/P/0002005018.0...</td>\n",
       "      <td>http://images.amazon.com/images/P/0002005018.0...</td>\n",
       "      <td>http://images.amazon.com/images/P/0002005018.0...</td>\n",
       "    </tr>\n",
       "    <tr>\n",
       "      <th>2</th>\n",
       "      <td>0060973129</td>\n",
       "      <td>Decision in Normandy</td>\n",
       "      <td>Carlo D'Este</td>\n",
       "      <td>1991</td>\n",
       "      <td>HarperPerennial</td>\n",
       "      <td>http://images.amazon.com/images/P/0060973129.0...</td>\n",
       "      <td>http://images.amazon.com/images/P/0060973129.0...</td>\n",
       "      <td>http://images.amazon.com/images/P/0060973129.0...</td>\n",
       "    </tr>\n",
       "    <tr>\n",
       "      <th>3</th>\n",
       "      <td>0374157065</td>\n",
       "      <td>Flu: The Story of the Great Influenza Pandemic...</td>\n",
       "      <td>Gina Bari Kolata</td>\n",
       "      <td>1999</td>\n",
       "      <td>Farrar Straus Giroux</td>\n",
       "      <td>http://images.amazon.com/images/P/0374157065.0...</td>\n",
       "      <td>http://images.amazon.com/images/P/0374157065.0...</td>\n",
       "      <td>http://images.amazon.com/images/P/0374157065.0...</td>\n",
       "    </tr>\n",
       "    <tr>\n",
       "      <th>4</th>\n",
       "      <td>0393045218</td>\n",
       "      <td>The Mummies of Urumchi</td>\n",
       "      <td>E. J. W. Barber</td>\n",
       "      <td>1999</td>\n",
       "      <td>W. W. Norton &amp;amp; Company</td>\n",
       "      <td>http://images.amazon.com/images/P/0393045218.0...</td>\n",
       "      <td>http://images.amazon.com/images/P/0393045218.0...</td>\n",
       "      <td>http://images.amazon.com/images/P/0393045218.0...</td>\n",
       "    </tr>\n",
       "  </tbody>\n",
       "</table>\n",
       "</div>"
      ],
      "text/plain": [
       "         ISBN                                         Book-Title  \\\n",
       "0  0195153448                                Classical Mythology   \n",
       "1  0002005018                                       Clara Callan   \n",
       "2  0060973129                               Decision in Normandy   \n",
       "3  0374157065  Flu: The Story of the Great Influenza Pandemic...   \n",
       "4  0393045218                             The Mummies of Urumchi   \n",
       "\n",
       "            Book-Author Year-Of-Publication                   Publisher  \\\n",
       "0    Mark P. O. Morford                2002     Oxford University Press   \n",
       "1  Richard Bruce Wright                2001       HarperFlamingo Canada   \n",
       "2          Carlo D'Este                1991             HarperPerennial   \n",
       "3      Gina Bari Kolata                1999        Farrar Straus Giroux   \n",
       "4       E. J. W. Barber                1999  W. W. Norton &amp; Company   \n",
       "\n",
       "                                         Image-URL-S  \\\n",
       "0  http://images.amazon.com/images/P/0195153448.0...   \n",
       "1  http://images.amazon.com/images/P/0002005018.0...   \n",
       "2  http://images.amazon.com/images/P/0060973129.0...   \n",
       "3  http://images.amazon.com/images/P/0374157065.0...   \n",
       "4  http://images.amazon.com/images/P/0393045218.0...   \n",
       "\n",
       "                                         Image-URL-M  \\\n",
       "0  http://images.amazon.com/images/P/0195153448.0...   \n",
       "1  http://images.amazon.com/images/P/0002005018.0...   \n",
       "2  http://images.amazon.com/images/P/0060973129.0...   \n",
       "3  http://images.amazon.com/images/P/0374157065.0...   \n",
       "4  http://images.amazon.com/images/P/0393045218.0...   \n",
       "\n",
       "                                         Image-URL-L  \n",
       "0  http://images.amazon.com/images/P/0195153448.0...  \n",
       "1  http://images.amazon.com/images/P/0002005018.0...  \n",
       "2  http://images.amazon.com/images/P/0060973129.0...  \n",
       "3  http://images.amazon.com/images/P/0374157065.0...  \n",
       "4  http://images.amazon.com/images/P/0393045218.0...  "
      ]
     },
     "execution_count": 6,
     "metadata": {},
     "output_type": "execute_result"
    }
   ],
   "source": [
    "\n",
    "import pandas as pd\n",
    "\n",
    "books = pd.read_csv(os.path.join(path, 'Books.csv'))\n",
    "books.head(5)\n"
   ]
  },
  {
   "cell_type": "code",
   "execution_count": 7,
   "id": "cd6ea112-94c9-44e2-bdd3-4c17fade1e4c",
   "metadata": {},
   "outputs": [
    {
     "data": {
      "text/html": [
       "<div>\n",
       "<style scoped>\n",
       "    .dataframe tbody tr th:only-of-type {\n",
       "        vertical-align: middle;\n",
       "    }\n",
       "\n",
       "    .dataframe tbody tr th {\n",
       "        vertical-align: top;\n",
       "    }\n",
       "\n",
       "    .dataframe thead th {\n",
       "        text-align: right;\n",
       "    }\n",
       "</style>\n",
       "<table border=\"1\" class=\"dataframe\">\n",
       "  <thead>\n",
       "    <tr style=\"text-align: right;\">\n",
       "      <th></th>\n",
       "      <th>User-ID</th>\n",
       "      <th>Location</th>\n",
       "      <th>Age</th>\n",
       "    </tr>\n",
       "  </thead>\n",
       "  <tbody>\n",
       "    <tr>\n",
       "      <th>0</th>\n",
       "      <td>1</td>\n",
       "      <td>nyc, new york, usa</td>\n",
       "      <td>NaN</td>\n",
       "    </tr>\n",
       "    <tr>\n",
       "      <th>1</th>\n",
       "      <td>2</td>\n",
       "      <td>stockton, california, usa</td>\n",
       "      <td>18.0</td>\n",
       "    </tr>\n",
       "    <tr>\n",
       "      <th>2</th>\n",
       "      <td>3</td>\n",
       "      <td>moscow, yukon territory, russia</td>\n",
       "      <td>NaN</td>\n",
       "    </tr>\n",
       "    <tr>\n",
       "      <th>3</th>\n",
       "      <td>4</td>\n",
       "      <td>porto, v.n.gaia, portugal</td>\n",
       "      <td>17.0</td>\n",
       "    </tr>\n",
       "    <tr>\n",
       "      <th>4</th>\n",
       "      <td>5</td>\n",
       "      <td>farnborough, hants, united kingdom</td>\n",
       "      <td>NaN</td>\n",
       "    </tr>\n",
       "  </tbody>\n",
       "</table>\n",
       "</div>"
      ],
      "text/plain": [
       "   User-ID                            Location   Age\n",
       "0        1                  nyc, new york, usa   NaN\n",
       "1        2           stockton, california, usa  18.0\n",
       "2        3     moscow, yukon territory, russia   NaN\n",
       "3        4           porto, v.n.gaia, portugal  17.0\n",
       "4        5  farnborough, hants, united kingdom   NaN"
      ]
     },
     "execution_count": 7,
     "metadata": {},
     "output_type": "execute_result"
    }
   ],
   "source": [
    "users = pd.read_csv(os.path.join(path, 'Users.csv'))\n",
    "users.head(5)"
   ]
  },
  {
   "cell_type": "code",
   "execution_count": 8,
   "id": "bcaa71d7-1053-4e1b-80ed-02c7b0f39d4c",
   "metadata": {},
   "outputs": [
    {
     "data": {
      "text/html": [
       "<div>\n",
       "<style scoped>\n",
       "    .dataframe tbody tr th:only-of-type {\n",
       "        vertical-align: middle;\n",
       "    }\n",
       "\n",
       "    .dataframe tbody tr th {\n",
       "        vertical-align: top;\n",
       "    }\n",
       "\n",
       "    .dataframe thead th {\n",
       "        text-align: right;\n",
       "    }\n",
       "</style>\n",
       "<table border=\"1\" class=\"dataframe\">\n",
       "  <thead>\n",
       "    <tr style=\"text-align: right;\">\n",
       "      <th></th>\n",
       "      <th>User-ID</th>\n",
       "      <th>ISBN</th>\n",
       "      <th>Book-Rating</th>\n",
       "    </tr>\n",
       "  </thead>\n",
       "  <tbody>\n",
       "    <tr>\n",
       "      <th>0</th>\n",
       "      <td>276725</td>\n",
       "      <td>034545104X</td>\n",
       "      <td>0</td>\n",
       "    </tr>\n",
       "    <tr>\n",
       "      <th>1</th>\n",
       "      <td>276726</td>\n",
       "      <td>0155061224</td>\n",
       "      <td>5</td>\n",
       "    </tr>\n",
       "    <tr>\n",
       "      <th>2</th>\n",
       "      <td>276727</td>\n",
       "      <td>0446520802</td>\n",
       "      <td>0</td>\n",
       "    </tr>\n",
       "    <tr>\n",
       "      <th>3</th>\n",
       "      <td>276729</td>\n",
       "      <td>052165615X</td>\n",
       "      <td>3</td>\n",
       "    </tr>\n",
       "    <tr>\n",
       "      <th>4</th>\n",
       "      <td>276729</td>\n",
       "      <td>0521795028</td>\n",
       "      <td>6</td>\n",
       "    </tr>\n",
       "  </tbody>\n",
       "</table>\n",
       "</div>"
      ],
      "text/plain": [
       "   User-ID        ISBN  Book-Rating\n",
       "0   276725  034545104X            0\n",
       "1   276726  0155061224            5\n",
       "2   276727  0446520802            0\n",
       "3   276729  052165615X            3\n",
       "4   276729  0521795028            6"
      ]
     },
     "execution_count": 8,
     "metadata": {},
     "output_type": "execute_result"
    }
   ],
   "source": [
    "ratings = pd.read_csv(os.path.join(path, 'Ratings.csv'))\n",
    "ratings.head(5)"
   ]
  },
  {
   "cell_type": "code",
   "execution_count": 29,
   "id": "eaa3fbd5-b66f-472a-aed3-180924b1b586",
   "metadata": {},
   "outputs": [
    {
     "data": {
      "text/html": [
       "<div>\n",
       "<style scoped>\n",
       "    .dataframe tbody tr th:only-of-type {\n",
       "        vertical-align: middle;\n",
       "    }\n",
       "\n",
       "    .dataframe tbody tr th {\n",
       "        vertical-align: top;\n",
       "    }\n",
       "\n",
       "    .dataframe thead th {\n",
       "        text-align: right;\n",
       "    }\n",
       "</style>\n",
       "<table border=\"1\" class=\"dataframe\">\n",
       "  <thead>\n",
       "    <tr style=\"text-align: right;\">\n",
       "      <th></th>\n",
       "      <th>User-ID</th>\n",
       "      <th>ISBN</th>\n",
       "      <th>Book-Rating</th>\n",
       "      <th>user_index</th>\n",
       "      <th>book_index</th>\n",
       "    </tr>\n",
       "  </thead>\n",
       "  <tbody>\n",
       "    <tr>\n",
       "      <th>9561</th>\n",
       "      <td>2</td>\n",
       "      <td>0195153448</td>\n",
       "      <td>0</td>\n",
       "      <td>850</td>\n",
       "      <td>8967</td>\n",
       "    </tr>\n",
       "  </tbody>\n",
       "</table>\n",
       "</div>"
      ],
      "text/plain": [
       "      User-ID        ISBN  Book-Rating  user_index  book_index\n",
       "9561        2  0195153448            0         850        8967"
      ]
     },
     "execution_count": 29,
     "metadata": {},
     "output_type": "execute_result"
    }
   ],
   "source": [
    "ratings[ratings['ISBN']=='0195153448']"
   ]
  },
  {
   "cell_type": "code",
   "execution_count": 35,
   "id": "f86470ab-46ed-4783-847a-7dde19d41157",
   "metadata": {},
   "outputs": [
    {
     "data": {
      "text/html": [
       "<div>\n",
       "<style scoped>\n",
       "    .dataframe tbody tr th:only-of-type {\n",
       "        vertical-align: middle;\n",
       "    }\n",
       "\n",
       "    .dataframe tbody tr th {\n",
       "        vertical-align: top;\n",
       "    }\n",
       "\n",
       "    .dataframe thead th {\n",
       "        text-align: right;\n",
       "    }\n",
       "</style>\n",
       "<table border=\"1\" class=\"dataframe\">\n",
       "  <thead>\n",
       "    <tr style=\"text-align: right;\">\n",
       "      <th></th>\n",
       "      <th>User-ID</th>\n",
       "      <th>ISBN</th>\n",
       "      <th>Book-Rating</th>\n",
       "      <th>user_index</th>\n",
       "      <th>book_index</th>\n",
       "    </tr>\n",
       "  </thead>\n",
       "  <tbody>\n",
       "    <tr>\n",
       "      <th>3</th>\n",
       "      <td>276729</td>\n",
       "      <td>052165615X</td>\n",
       "      <td>3</td>\n",
       "      <td>3</td>\n",
       "      <td>3</td>\n",
       "    </tr>\n",
       "    <tr>\n",
       "      <th>4</th>\n",
       "      <td>276729</td>\n",
       "      <td>0521795028</td>\n",
       "      <td>6</td>\n",
       "      <td>3</td>\n",
       "      <td>4</td>\n",
       "    </tr>\n",
       "  </tbody>\n",
       "</table>\n",
       "</div>"
      ],
      "text/plain": [
       "   User-ID        ISBN  Book-Rating  user_index  book_index\n",
       "3   276729  052165615X            3           3           3\n",
       "4   276729  0521795028            6           3           4"
      ]
     },
     "execution_count": 35,
     "metadata": {},
     "output_type": "execute_result"
    }
   ],
   "source": [
    "ratings[ratings['User-ID']==276729]"
   ]
  },
  {
   "cell_type": "code",
   "execution_count": null,
   "id": "3069bc86-5842-4995-a954-5233fea096fa",
   "metadata": {},
   "outputs": [],
   "source": []
  },
  {
   "cell_type": "markdown",
   "id": "e6fec632-38f6-43e9-9ddb-2e3cfaeaef7d",
   "metadata": {},
   "source": [
    "Below is implemented a Collaborative Filtering-based book recommendation system using Alternating Least Squares (ALS), a matrix factorization technique provided by the implicit library. The system processes a dataset of book ratings, trains an ALS model, and recommends books to users based on their past ratings."
   ]
  },
  {
   "cell_type": "markdown",
   "id": "4d640aa6-1b1e-4349-b040-ed0487d426b8",
   "metadata": {},
   "source": [
    "The very first thing is to extract unique user IDs and unique book ISBNs from the ratings.\n",
    "Create mapping dictionaries to be able to work with sparse matrices - (user_map and book_map) that map:\n",
    "-- Each User-ID to a numeric index.\n",
    "-- Each ISBN to a numeric index.\n",
    "Add mapped data to the ratings.\n"
   ]
  },
  {
   "cell_type": "code",
   "execution_count": null,
   "id": "6fb92768-2b76-4b15-a79c-ac19c3c140af",
   "metadata": {},
   "outputs": [],
   "source": [
    "import pandas as pd\n",
    "import numpy as np\n",
    "import scipy.sparse as sparse\n",
    "import implicit\n",
    "import os\n",
    "\n",
    "\n",
    "\n",
    "# Create user and book mappings\n",
    "user_ids = ratings['User-ID'].unique()\n",
    "book_isbns = ratings['ISBN'].unique()\n",
    "\n",
    "user_map = {user_id: index for index, user_id in enumerate(user_ids)}\n",
    "book_map = {isbn: int(index) for index, isbn in enumerate(book_isbns)}\n",
    "\n",
    "ratings['user_index'] = ratings['User-ID'].map(user_map)\n",
    "ratings['book_index'] = ratings['ISBN'].map(book_map)\n"
   ]
  },
  {
   "cell_type": "code",
   "execution_count": null,
   "id": "04fbcb8f-58f2-4c7b-aac7-0b3af375021c",
   "metadata": {},
   "outputs": [],
   "source": []
  },
  {
   "cell_type": "markdown",
   "id": "4822cab0-19e9-40b5-aedb-7e516b482e0d",
   "metadata": {},
   "source": [
    "Below is constructed a Coordinate (COO) sparse matrix:\n",
    "-- Rows represent users.\n",
    "-- Columns represent books.\n",
    "-- Values represent ratings.\n",
    "The matrix is converted to Compressed Sparse Row (CSR) format for efficient mathematical operations."
   ]
  },
  {
   "cell_type": "markdown",
   "id": "72ea07bf-e8c0-48b5-928b-097c49cf7fb3",
   "metadata": {},
   "source": [
    "Below is used Collaborative Filtering (CF) using Alternating Least Squares (ALS)\n",
    "\n",
    "Collaborative Filtering (CF): Recommends books based on user-item interactions.\n",
    "\n",
    "Matrix Factorization: ALS decomposes the user-book rating matrix into two lower-dimensional matrices:\n",
    "-- User matrix (U)\n",
    "-- Item matrix (V)\n",
    "\n",
    "The dot product of these two matrices approximates the original ratings."
   ]
  },
  {
   "cell_type": "code",
   "execution_count": null,
   "id": "e9c64b44-2c02-4c4e-ae6a-ff21bf309abf",
   "metadata": {},
   "outputs": [],
   "source": [
    "# Create sparse matrix\n",
    "sparse_matrix = sparse.coo_matrix((ratings['Book-Rating'], (ratings['user_index'], ratings['book_index'])), \n",
    "                                 shape=(len(user_ids), len(book_isbns))).tocsr()\n",
    "\n",
    "# Train the ALS model\n",
    "als_model = implicit.als.AlternatingLeastSquares(factors=50, regularization=0.1, iterations=20)\n",
    "als_model.fit(sparse_matrix)\n",
    "\n",
    "# Create a reverse book map\n",
    "book_index_to_isbn = {index: isbn for isbn, index in book_map.items()}\n"
   ]
  },
  {
   "cell_type": "markdown",
   "id": "6d395d42-3a32-4da1-a109-4ba2b1f6c04c",
   "metadata": {},
   "source": [
    "Function below returns book recommendations using the ALS model. It returns the top n=5 recommended book indices.\n",
    "It converts book indices back to ISBNs using book_index_to_isbn and loads book details from Books.csv and filter based on the recommended ISBNs.\n"
   ]
  },
  {
   "cell_type": "code",
   "execution_count": null,
   "id": "739a040b-1d91-415e-b506-4a8e1c115512",
   "metadata": {},
   "outputs": [],
   "source": []
  },
  {
   "cell_type": "markdown",
   "id": "6cd9f411-dbe8-4b40-9490-38ffac85b21b",
   "metadata": {},
   "source": [
    "Get book recommendations using the ALS model:\n",
    "als_model.recommend(user_idx, user_items_csr, N=n) returns the top n recommended book indices.\n",
    "Convert book indices back to ISBNs using book_index_to_isbn.\n",
    "Load book details from Books.csv and filter based on the recommended ISBNs.\n"
   ]
  },
  {
   "cell_type": "code",
   "execution_count": null,
   "id": "5260cbc6-2845-4266-b15e-2b564de46b61",
   "metadata": {},
   "outputs": [],
   "source": [
    "def recommend_books_cf(user_id, n=5):\n",
    "    \"\"\"Recommends books for a user using ALS collaborative filtering.\"\"\"\n",
    "    if user_id not in user_map:\n",
    "        return []\n",
    "\n",
    "    user_idx = user_map[user_id]\n",
    "\n",
    "    # Extract the user's row from the transposed matrix\n",
    "    user_items_row = sparse_matrix.T[user_idx]\n",
    "    user_items_csr = sparse.csr_matrix(user_items_row)\n",
    "\n",
    "    # Get recommended book indices\n",
    "    recommended_results = als_model.recommend(user_idx, user_items_csr, N=n)\n",
    "\n",
    "    # Extract the item indices\n",
    "    recommended_indices = recommended_results[0]  # Corrected line\n",
    "\n",
    "    # Convert book indices back to ISBNs using the reverse map\n",
    "    recommended_books = [book_index_to_isbn.get(i) for i in recommended_indices if book_index_to_isbn.get(i) is not None]\n",
    "\n",
    "    # Fetch book details (assuming 'Books.csv' is also in the same directory)\n",
    "    books = pd.read_csv(os.path.join(path, 'Books.csv'))  # Load book details\n",
    "    return books[books[\"ISBN\"].isin(recommended_books)][[\"ISBN\", \"Book-Title\", \"Book-Author\"]].to_dict(orient=\"records\")\n",
    "\n"
   ]
  },
  {
   "cell_type": "code",
   "execution_count": 36,
   "id": "7a1923b1-0478-4428-a7fa-34a60ba87d45",
   "metadata": {},
   "outputs": [
    {
     "name": "stderr",
     "output_type": "stream",
     "text": [
      "100%|██████████| 20/20 [01:13<00:00,  3.68s/it]\n"
     ]
    },
    {
     "name": "stdout",
     "output_type": "stream",
     "text": [
      "Wild Animus by Rich Shapero (ISBN: 0971880107)\n",
      "Little Altars Everywhere: A Novel by Rebecca Wells (ISBN: 0060976845)\n",
      "Fahrenheit 451 by RAY BRADBURY (ISBN: 0345342968)\n",
      "The Hobbit : The Enchanting Prelude to The Lord of the Rings by J.R.R. TOLKIEN (ISBN: 0345339681)\n",
      "The Pilot's Wife : A Novel by Anita Shreve (ISBN: 0316601950)\n",
      "User-ID         int64\n",
      "ISBN           object\n",
      "Book-Rating     int64\n",
      "user_index      int64\n",
      "book_index      int64\n",
      "dtype: object\n"
     ]
    },
    {
     "name": "stderr",
     "output_type": "stream",
     "text": [
      "/tmp/ipykernel_85/3301709481.py:55: DtypeWarning: Columns (3) have mixed types. Specify dtype option on import or set low_memory=False.\n",
      "  books = pd.read_csv(os.path.join(path, 'Books.csv'))  # Load book details\n"
     ]
    }
   ],
   "source": [
    "#  Usage\n",
    "recommendations_cf = recommend_books_cf(276729, 5)\n",
    "for book in recommendations_cf:\n",
    "    print(f\"{book['Book-Title']} by {book['Book-Author']} (ISBN: {book['ISBN']})\")\n",
    "\n",
    "print(ratings.dtypes)"
   ]
  },
  {
   "cell_type": "code",
   "execution_count": null,
   "id": "f681c9fb-bc44-4498-8717-8a28a7b7a154",
   "metadata": {},
   "outputs": [],
   "source": []
  },
  {
   "cell_type": "code",
   "execution_count": 25,
   "id": "b88083f7-bfa6-493a-a168-fe48bd330274",
   "metadata": {},
   "outputs": [
    {
     "name": "stdout",
     "output_type": "stream",
     "text": [
      "Book Map Keys: ['034545104X', '0155061224', '0446520802', '052165615X', '0521795028']\n",
      "Type of Book Map Keys: <class 'str'>\n",
      "Book Map Values: [0, 1, 2, 3, 4]\n",
      "Type of Book Map Values: <class 'int'>\n"
     ]
    }
   ],
   "source": [
    "book_map = {isbn: index for index, isbn in enumerate(book_isbns)}\n",
    "print(\"Book Map Keys:\", list(book_map.keys())[:5])  # Print first 5 keys\n",
    "print(\"Type of Book Map Keys:\", type(list(book_map.keys())[0]))\n",
    "print(\"Book Map Values:\", list(book_map.values())[:5]) #print first 5 values.\n",
    "print(\"Type of Book Map Values:\", type(list(book_map.values())[0]))"
   ]
  },
  {
   "cell_type": "code",
   "execution_count": null,
   "id": "8f76f354-9f39-4d55-bfff-64c0a9d42453",
   "metadata": {},
   "outputs": [],
   "source": []
  },
  {
   "cell_type": "code",
   "execution_count": null,
   "id": "58365f89-945e-446b-8235-841494e98140",
   "metadata": {},
   "outputs": [],
   "source": []
  }
 ],
 "metadata": {
  "kernelspec": {
   "display_name": "Python 3 (ipykernel)",
   "language": "python",
   "name": "python3"
  },
  "language_info": {
   "codemirror_mode": {
    "name": "ipython",
    "version": 3
   },
   "file_extension": ".py",
   "mimetype": "text/x-python",
   "name": "python",
   "nbconvert_exporter": "python",
   "pygments_lexer": "ipython3",
   "version": "3.10.12"
  }
 },
 "nbformat": 4,
 "nbformat_minor": 5
}
